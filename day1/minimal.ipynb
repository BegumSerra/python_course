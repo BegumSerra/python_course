{
 "cells": [
  {
   "cell_type": "code",
   "execution_count": 15,
   "id": "0c3f6550",
   "metadata": {},
   "outputs": [],
   "source": [
    "import numpy as np\n",
    "\n",
    "def load_data():    \n",
    "    # Goalkeeper, defender, midfielder, attacker\n",
    "    possible_positions = ['GK', 'D', 'M', 'A']\n",
    "    N = 100\n",
    "    positions = []\n",
    "    heights = []\n",
    "    for i in range(0,N):\n",
    "        positions.append(possible_positions[np.random.randint(len(possible_positions))])\n",
    "        heights.append(np.random.normal(loc=180.0,scale=5.0))\n",
    "    return positions, heights\n",
    "\n",
    "positions, heights = load_data()"
   ]
  },
  {
   "cell_type": "code",
   "execution_count": 16,
   "id": "a3d9a834",
   "metadata": {},
   "outputs": [
    {
     "data": {
      "text/plain": [
       "array(['D', 'GK', 'M', 'A', 'M', 'M', 'M', 'D', 'GK', 'A', 'GK', 'M',\n",
       "       'GK', 'GK', 'GK', 'D', 'A', 'GK', 'A', 'M', 'D', 'D', 'A', 'M',\n",
       "       'GK', 'A', 'A', 'D', 'M', 'A', 'GK', 'D', 'GK', 'M', 'A', 'M', 'M',\n",
       "       'D', 'D', 'A', 'M', 'D', 'GK', 'M', 'GK', 'D', 'A', 'A', 'GK', 'A',\n",
       "       'A', 'GK', 'D', 'A', 'GK', 'A', 'A', 'M', 'M', 'M', 'A', 'A', 'GK',\n",
       "       'D', 'M', 'M', 'A', 'M', 'A', 'M', 'D', 'GK', 'D', 'A', 'A', 'M',\n",
       "       'D', 'M', 'D', 'D', 'M', 'M', 'D', 'GK', 'GK', 'D', 'M', 'D', 'D',\n",
       "       'M', 'M', 'A', 'A', 'M', 'A', 'M', 'M', 'D', 'M', 'M'], dtype='<U2')"
      ]
     },
     "execution_count": 16,
     "metadata": {},
     "output_type": "execute_result"
    }
   ],
   "source": [
    "np_positions = np.array(positions)\n",
    "np_positions"
   ]
  },
  {
   "cell_type": "code",
   "execution_count": 14,
   "id": "9dab5110",
   "metadata": {},
   "outputs": [
    {
     "data": {
      "text/plain": [
       "array([182.57708199, 180.27579474, 182.15731541, 179.35905803,\n",
       "       172.3926896 , 176.21804479, 181.19063483, 177.90693912,\n",
       "       179.79707152, 179.52342737, 178.83842422, 178.98647141,\n",
       "       171.75578173, 173.45814946, 183.49285816, 171.88732843,\n",
       "       176.37531786, 179.23202509, 183.78201871, 185.14618805,\n",
       "       184.19051814, 179.79932291, 176.06926984, 174.91129141,\n",
       "       179.71973985, 184.12207974, 181.20464688, 181.20229043,\n",
       "       187.05825915, 178.17283749, 181.09570664, 173.39754198,\n",
       "       182.57119436, 177.71350138, 178.06419045, 180.51572777,\n",
       "       175.67496121, 182.17022447, 171.08642084, 179.44299574,\n",
       "       179.736426  , 178.93673064, 178.57759466, 188.66831444,\n",
       "       177.03986886, 183.3625998 , 186.20965749, 179.53488184,\n",
       "       179.04150537, 177.08220991, 180.92879159, 181.38673841,\n",
       "       182.35297982, 177.9693248 , 189.56137426, 184.63098081,\n",
       "       172.38886823, 183.03869243, 188.84668073, 186.55220716,\n",
       "       183.86768649, 185.19026215, 189.22150105, 175.09905773,\n",
       "       184.61055704, 180.8166004 , 180.0979475 , 190.10594751,\n",
       "       181.1112449 , 177.78012758, 187.05976659, 177.28786697,\n",
       "       184.6645846 , 178.31073258, 181.33369884, 177.7113192 ,\n",
       "       184.44851092, 179.00798923, 173.89363427, 180.28246404,\n",
       "       176.47555239, 176.75284543, 184.25745936, 183.85859975,\n",
       "       172.45980147, 178.46177274, 172.54722587, 180.75536826,\n",
       "       183.09787862, 177.17517247, 192.31157254, 181.05461188,\n",
       "       178.95065929, 184.99468217, 177.16362379, 183.66250739,\n",
       "       180.58269891, 185.45616872, 183.96062917, 177.6169999 ])"
      ]
     },
     "execution_count": 14,
     "metadata": {},
     "output_type": "execute_result"
    }
   ],
   "source": [
    "np_heights = np.array(heights)\n",
    "np_heights"
   ]
  },
  {
   "cell_type": "code",
   "execution_count": 9,
   "id": "4e0b7218",
   "metadata": {},
   "outputs": [
    {
     "data": {
      "text/plain": [
       "array([182.92561082, 184.76645537, 178.76087217, 176.21164101,\n",
       "       177.60410515, 173.60589712, 183.80722837, 188.37707803,\n",
       "       172.84825546, 179.27522735, 177.89137954, 179.29914882,\n",
       "       176.72334892, 186.53945735, 177.68963106, 178.65446667,\n",
       "       179.3866774 , 176.88855795, 187.37340605, 180.63493338,\n",
       "       176.60913347, 178.81288351, 178.6585742 , 181.26780162,\n",
       "       176.23582647, 171.28803961, 177.64367275, 178.6912086 ,\n",
       "       180.49853517, 187.13452686, 183.70727036, 184.60956216,\n",
       "       173.79231046, 173.96193814, 183.59617187, 187.04868287,\n",
       "       176.87542748, 181.15565179, 181.01945067, 185.86601148,\n",
       "       173.24157466, 174.64435383, 181.86887597, 177.1514134 ,\n",
       "       186.79618107, 171.86839667, 184.96133243, 178.06345849,\n",
       "       188.09531682, 181.12997235, 178.41501687, 185.84090233,\n",
       "       176.60860719, 186.17815054, 174.6272406 , 172.2275671 ,\n",
       "       177.33005139, 176.84086863, 179.59683058, 178.87057365,\n",
       "       183.93308641, 176.8609936 , 177.72852763, 175.97217528,\n",
       "       181.56838095, 183.16633823, 182.34971799, 178.73660028,\n",
       "       173.53235948, 181.33176902])"
      ]
     },
     "execution_count": 9,
     "metadata": {},
     "output_type": "execute_result"
    }
   ],
   "source": [
    "# Heights of the goalkeepers: gk_heights\n",
    "gk_heights = np_heights[np_positions == 'GK']\n",
    "gk_heights"
   ]
  },
  {
   "cell_type": "code",
   "execution_count": 10,
   "id": "c51bd740",
   "metadata": {},
   "outputs": [
    {
     "data": {
      "text/plain": [
       "array([182.92561082, 184.76645537, 178.76087217, 176.21164101,\n",
       "       177.60410515, 173.60589712, 183.80722837, 188.37707803,\n",
       "       172.84825546, 179.27522735, 177.89137954, 179.29914882,\n",
       "       176.72334892, 186.53945735, 177.68963106, 178.65446667,\n",
       "       179.3866774 , 176.88855795, 187.37340605, 180.63493338,\n",
       "       176.60913347, 178.81288351, 178.6585742 , 181.26780162,\n",
       "       176.23582647, 171.28803961, 177.64367275, 178.6912086 ,\n",
       "       180.49853517, 187.13452686, 183.70727036, 184.60956216,\n",
       "       173.79231046, 173.96193814, 183.59617187, 187.04868287,\n",
       "       176.87542748, 181.15565179, 181.01945067, 185.86601148,\n",
       "       173.24157466, 174.64435383, 181.86887597, 177.1514134 ,\n",
       "       186.79618107, 171.86839667, 184.96133243, 178.06345849,\n",
       "       188.09531682, 181.12997235, 178.41501687, 185.84090233,\n",
       "       176.60860719, 186.17815054, 174.6272406 , 172.2275671 ,\n",
       "       177.33005139, 176.84086863, 179.59683058, 178.87057365,\n",
       "       183.93308641, 176.8609936 , 177.72852763, 175.97217528,\n",
       "       181.56838095, 183.16633823, 182.34971799, 178.73660028,\n",
       "       173.53235948, 181.33176902])"
      ]
     },
     "execution_count": 10,
     "metadata": {},
     "output_type": "execute_result"
    }
   ],
   "source": [
    "# Heights of the other players: other_heights\n",
    "other_heights = np_heights[np_positions != 'GK']\n",
    "other_heights"
   ]
  },
  {
   "cell_type": "code",
   "execution_count": 11,
   "id": "300c7ded",
   "metadata": {},
   "outputs": [
    {
     "name": "stdout",
     "output_type": "stream",
     "text": [
      "Median height of goalkeepers: 179.5509879647961\n",
      "Median height of other players: 178.78687783960964\n"
     ]
    }
   ],
   "source": [
    "# Print out the median height of goalkeepers.\n",
    "print(\"Median height of goalkeepers: \" + str(np.median(gk_heights)))\n",
    "\n",
    "# Print out the median height of other players.\n",
    "print(\"Median height of other players: \" + str(np.median(other_heights)))"
   ]
  },
  {
   "cell_type": "code",
   "execution_count": 12,
   "id": "92e96bc8",
   "metadata": {},
   "outputs": [
    {
     "name": "stdout",
     "output_type": "stream",
     "text": [
      "The median goalkeepers height is bigger than that of the other players\n"
     ]
    }
   ],
   "source": [
    "if(np.median(gk_heights) > np.median(other_heights)):\n",
    "    print(\"The median goalkeepers height is bigger than that of the other players\")\n",
    "else:\n",
    "    print(\"The median goalkeepers height is not bigger than that of the other players\")"
   ]
  }
 ],
 "metadata": {
  "kernelspec": {
   "display_name": "Python 3 (ipykernel)",
   "language": "python",
   "name": "python3"
  },
  "language_info": {
   "codemirror_mode": {
    "name": "ipython",
    "version": 3
   },
   "file_extension": ".py",
   "mimetype": "text/x-python",
   "name": "python",
   "nbconvert_exporter": "python",
   "pygments_lexer": "ipython3",
   "version": "3.10.0"
  }
 },
 "nbformat": 4,
 "nbformat_minor": 5
}
